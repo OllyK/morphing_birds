{
 "cells": [
  {
   "cell_type": "code",
   "execution_count": 81,
   "metadata": {},
   "outputs": [
    {
     "name": "stdout",
     "output_type": "stream",
     "text": [
      "The autoreload extension is already loaded. To reload it, use:\n",
      "  %reload_ext autoreload\n"
     ]
    }
   ],
   "source": [
    "%load_ext autoreload\n",
    "%autoreload 2\n",
    "\n",
    "import numpy as np\n",
    "import pandas as pd\n",
    "\n",
    "from morphing_birds import Spider3D, plot_plotly, animate"
   ]
  },
  {
   "cell_type": "code",
   "execution_count": 99,
   "metadata": {},
   "outputs": [],
   "source": [
    "spider3d = Spider3D(\"../data/mean_spider_shape_carolina.csv\")\n"
   ]
  },
  {
   "cell_type": "code",
   "execution_count": 100,
   "metadata": {},
   "outputs": [
    {
     "data": {
      "text/plain": [
       "['clypeus',\n",
       " 'coxa1',\n",
       " 'coxa2',\n",
       " 'coxa3',\n",
       " 'coxa4',\n",
       " 'spinneret',\n",
       " 'coxa5',\n",
       " 'coxa6',\n",
       " 'coxa7',\n",
       " 'coxa8']"
      ]
     },
     "execution_count": 100,
     "metadata": {},
     "output_type": "execute_result"
    }
   ],
   "source": [
    "spider3d.body_marker_names"
   ]
  },
  {
   "cell_type": "code",
   "execution_count": 78,
   "metadata": {},
   "outputs": [
    {
     "data": {
      "application/vnd.plotly.v1+json": {
       "config": {
        "plotlyServerURL": "https://plot.ly"
       },
       "data": [
        {
         "hoverinfo": "none",
         "line": {
          "color": "grey",
          "width": 1.5
         },
         "mode": "lines",
         "name": "",
         "type": "scatter3d",
         "x": [
          0.027514408075392273,
          0.0212520862384147,
          0.013483151754756537,
          0.006834880781256148,
          0.013483151754756537,
          0.0212520862384147,
          0.027514408075392273,
          0.027514408075392273
         ],
         "y": [
          -0.008419173411169004,
          -0.005888877232981819,
          -0.0037288664244919936,
          -0.0028780983126678117,
          -0.0037288664244919936,
          -0.005888877232981819,
          -0.008419173411169004,
          -0.008419173411169004
         ],
         "z": [
          -0.0004849760063433726,
          0.0025170049661817386,
          0.004205966028925209,
          0.00042501861153708295,
          0.004205966028925209,
          0.0025170049661817386,
          -0.0004849760063433726,
          -0.0004849760063433726
         ]
        },
        {
         "hoverinfo": "none",
         "line": {
          "color": "grey",
          "width": 1.5
         },
         "mode": "lines",
         "name": "",
         "type": "scatter3d",
         "x": [
          0.015782659461693268,
          0.013603421890631207,
          0.009172123697385626,
          0.004749852299846188,
          0.009172123697385626,
          0.013603421890631207,
          0.015782659461693268,
          0.015782659461693268
         ],
         "y": [
          -0.01577998980020899,
          -0.011633041338757668,
          -0.006995401713890399,
          -0.0035369093670600685,
          -0.006995401713890399,
          -0.011633041338757668,
          -0.01577998980020899,
          -0.01577998980020899
         ],
         "z": [
          -0.003937127985903053,
          0.0008199742021115399,
          0.0036377680731600024,
          -0.0000214701395412155,
          0.0036377680731600024,
          0.0008199742021115399,
          -0.003937127985903053,
          -0.003937127985903053
         ]
        },
        {
         "hoverinfo": "none",
         "line": {
          "color": "grey",
          "width": 1.5
         },
         "mode": "lines",
         "name": "",
         "type": "scatter3d",
         "x": [
          -0.011780575485904747,
          -0.006065890391325388,
          -0.0019022135197114183,
          0.0020413819631425493,
          -0.0019022135197114183,
          -0.006065890391325388,
          -0.011780575485904747,
          -0.011780575485904747
         ],
         "y": [
          -0.018297946184012984,
          -0.013250843897858572,
          -0.008571194851674098,
          -0.0034118657872435386,
          -0.008571194851674098,
          -0.013250843897858572,
          -0.018297946184012984,
          -0.018297946184012984
         ],
         "z": [
          -0.0010657384337098826,
          0.0007694504555181229,
          0.0019464892797746655,
          -0.0005707382325746954,
          0.0019464892797746655,
          0.0007694504555181229,
          -0.0010657384337098826,
          -0.0010657384337098826
         ]
        },
        {
         "hoverinfo": "none",
         "line": {
          "color": "grey",
          "width": 1.5
         },
         "mode": "lines",
         "name": "",
         "type": "scatter3d",
         "x": [
          -0.026517956769607366,
          -0.016944928971871494,
          -0.008035184990285504,
          3.324600668003758e-7,
          -0.008035184990285504,
          -0.016944928971871494,
          -0.026517956769607366,
          -0.026517956769607366
         ],
         "y": [
          -0.009614866879617951,
          -0.007547874393926346,
          -0.005822799956545594,
          -0.0025540651310499516,
          -0.005822799956545594,
          -0.007547874393926346,
          -0.009614866879617951,
          -0.009614866879617951
         ],
         "z": [
          -0.0074473095529959355,
          -0.003081331957088977,
          0.00033505977754195407,
          -0.0008911333140916087,
          0.00033505977754195407,
          -0.003081331957088977,
          -0.0074473095529959355,
          -0.0074473095529959355
         ]
        },
        {
         "hoverinfo": "none",
         "line": {
          "color": "grey",
          "width": 1.5
         },
         "mode": "lines",
         "name": "",
         "type": "scatter3d",
         "x": [
          -0.02791597340310482,
          -0.016439267627466496,
          -0.007201928089780207,
          0.0002491239095583918,
          -0.007201928089780207,
          -0.016439267627466496,
          -0.02791597340310482,
          -0.02791597340310482
         ],
         "y": [
          0.010497679867196614,
          0.008387102387892814,
          0.006424832179689939,
          0.0022910921596360307,
          0.006424832179689939,
          0.008387102387892814,
          0.010497679867196614,
          0.010497679867196614
         ],
         "z": [
          -0.007235163026891769,
          -0.0021738173932908072,
          0.0020162126854188574,
          -0.000614660433058777,
          0.0020162126854188574,
          -0.0021738173932908072,
          -0.007235163026891769,
          -0.007235163026891769
         ]
        },
        {
         "hoverinfo": "none",
         "line": {
          "color": "grey",
          "width": 1.5
         },
         "mode": "lines",
         "name": "",
         "type": "scatter3d",
         "x": [
          -0.012057910457893081,
          -0.0061056410296953445,
          -0.001604438795209014,
          0.0018086200241962168,
          -0.001604438795209014,
          -0.0061056410296953445,
          -0.012057910457893081,
          -0.012057910457893081
         ],
         "y": [
          0.01656630235236532,
          0.013276785844037638,
          0.00929410487255605,
          0.0034208826304018185,
          0.00929410487255605,
          0.013276785844037638,
          0.01656630235236532,
          0.01656630235236532
         ],
         "z": [
          -0.004901984193563336,
          -0.0016477062086706937,
          0.0007406517290923425,
          -0.0008088011195925902,
          0.0007406517290923425,
          -0.0016477062086706937,
          -0.004901984193563336,
          -0.004901984193563336
         ]
        },
        {
         "hoverinfo": "none",
         "line": {
          "color": "grey",
          "width": 1.5
         },
         "mode": "lines",
         "name": "",
         "type": "scatter3d",
         "x": [
          0.015702184277679106,
          0.012906889223269475,
          0.008694028693276467,
          0.004447630504293332,
          0.008694028693276467,
          0.012906889223269475,
          0.015702184277679106,
          0.015702184277679106
         ],
         "y": [
          0.014174133347048049,
          0.011442314802003266,
          0.006996003182545027,
          0.0036842591545072317,
          0.006996003182545027,
          0.011442314802003266,
          0.014174133347048049,
          0.014174133347048049
         ],
         "z": [
          -0.0012631143459533737,
          0.0025795618351810126,
          0.004167002160646989,
          -0.0005029829956521956,
          0.004167002160646989,
          0.0025795618351810126,
          -0.0012631143459533737,
          -0.0012631143459533737
         ]
        },
        {
         "hoverinfo": "none",
         "line": {
          "color": "grey",
          "width": 1.5
         },
         "mode": "lines",
         "name": "",
         "type": "scatter3d",
         "x": [
          0.025856742261762388,
          0.020438895025186515,
          0.012899612689544437,
          0.006679507159648756,
          0.012899612689544437,
          0.020438895025186515,
          0.025856742261762388,
          0.025856742261762388
         ],
         "y": [
          0.008644172592274832,
          0.006003749223800129,
          0.004000152144820937,
          0.002978010893693677,
          0.004000152144820937,
          0.006003749223800129,
          0.008644172592274832,
          0.008644172592274832
         ],
         "z": [
          -0.0011667611730092114,
          0.002175102917003516,
          0.003648671491915235,
          0.00025940372628646083,
          0.003648671491915235,
          0.002175102917003516,
          -0.0011667611730092114,
          -0.0011667611730092114
         ]
        },
        {
         "color": "grey",
         "hoverinfo": "none",
         "opacity": 0.3,
         "type": "mesh3d",
         "x": [
          0.00915374225091509,
          0.006834880781256148,
          0.004749852299846188,
          0.0020413819631425493,
          3.324600668003758e-7,
          -0.01407160641241696,
          0.0002491239095583918,
          0.0018086200241962168,
          0.004447630504293332,
          0.006679507159648756
         ],
         "y": [
          0.00034244894213231826,
          -0.0028780983126678117,
          -0.0035369093670600685,
          -0.0034118657872435386,
          -0.0025540651310499516,
          0.0000018286579484594869,
          0.0022910921596360307,
          0.0034208826304018185,
          0.0036842591545072317,
          0.002978010893693677
         ],
         "z": [
          0.0020994147118721745,
          0.00042501861153708295,
          -0.0000214701395412155,
          -0.0005707382325746954,
          -0.0008911333140916087,
          -0.0036494380406368395,
          -0.000614660433058777,
          -0.0008088011195925902,
          -0.0005029829956521956,
          0.00025940372628646083
         ]
        },
        {
         "hoverinfo": "none",
         "line": {
          "color": "grey",
          "width": 1.5
         },
         "mode": "lines",
         "name": "",
         "type": "scatter3d",
         "x": [
          0.00915374225091509,
          0.006834880781256148,
          0.004749852299846188,
          0.0020413819631425493,
          3.324600668003758e-7,
          -0.01407160641241696,
          0.0002491239095583918,
          0.0018086200241962168,
          0.004447630504293332,
          0.006679507159648756,
          0.00915374225091509
         ],
         "y": [
          0.00034244894213231826,
          -0.0028780983126678117,
          -0.0035369093670600685,
          -0.0034118657872435386,
          -0.0025540651310499516,
          0.0000018286579484594869,
          0.0022910921596360307,
          0.0034208826304018185,
          0.0036842591545072317,
          0.002978010893693677,
          0.00034244894213231826
         ],
         "z": [
          0.0020994147118721745,
          0.00042501861153708295,
          -0.0000214701395412155,
          -0.0005707382325746954,
          -0.0008911333140916087,
          -0.0036494380406368395,
          -0.000614660433058777,
          -0.0008088011195925902,
          -0.0005029829956521956,
          0.00025940372628646083,
          0.0020994147118721745
         ]
        },
        {
         "hoverinfo": "none",
         "marker": {
          "color": "lightblue",
          "opacity": 1,
          "size": 2.5
         },
         "mode": "markers",
         "type": "scatter3d",
         "x": [
          0.027514408075392273,
          0.0212520862384147,
          0.013483151754756537,
          0.006834880781256148,
          0.015782659461693268,
          0.013603421890631207,
          0.009172123697385626,
          0.004749852299846188,
          -0.011780575485904747,
          -0.006065890391325388,
          -0.0019022135197114183,
          0.0020413819631425493,
          -0.026517956769607366,
          -0.016944928971871494,
          -0.008035184990285504,
          3.324600668003758e-7,
          -0.02791597340310482,
          -0.016439267627466496,
          -0.007201928089780207,
          0.0002491239095583918,
          -0.012057910457893081,
          -0.0061056410296953445,
          -0.001604438795209014,
          0.0018086200241962168,
          0.015702184277679106,
          0.012906889223269475,
          0.008694028693276467,
          0.004447630504293332,
          0.025856742261762388,
          0.020438895025186515,
          0.012899612689544437,
          0.006679507159648756,
          0.00915374225091509,
          -2.260048283542522e-7,
          -0.01407160641241696,
          0
         ],
         "y": [
          -0.008419173411169004,
          -0.005888877232981819,
          -0.0037288664244919936,
          -0.0028780983126678117,
          -0.01577998980020899,
          -0.011633041338757668,
          -0.006995401713890399,
          -0.0035369093670600685,
          -0.018297946184012984,
          -0.013250843897858572,
          -0.008571194851674098,
          -0.0034118657872435386,
          -0.009614866879617951,
          -0.007547874393926346,
          -0.005822799956545594,
          -0.0025540651310499516,
          0.010497679867196614,
          0.008387102387892814,
          0.006424832179689939,
          0.0022910921596360307,
          0.01656630235236532,
          0.013276785844037638,
          0.00929410487255605,
          0.0034208826304018185,
          0.014174133347048049,
          0.011442314802003266,
          0.006996003182545027,
          0.0036842591545072317,
          0.008644172592274832,
          0.006003749223800129,
          0.004000152144820937,
          0.002978010893693677,
          0.00034244894213231826,
          3.4238899073571334e-8,
          0.0000018286579484594869,
          0
         ],
         "z": [
          -0.0004849760063433726,
          0.0025170049661817386,
          0.004205966028925209,
          0.00042501861153708295,
          -0.003937127985903053,
          0.0008199742021115399,
          0.0036377680731600024,
          -0.0000214701395412155,
          -0.0010657384337098826,
          0.0007694504555181229,
          0.0019464892797746655,
          -0.0005707382325746954,
          -0.0074473095529959355,
          -0.003081331957088977,
          0.00033505977754195407,
          -0.0008911333140916087,
          -0.007235163026891769,
          -0.0021738173932908072,
          0.0020162126854188574,
          -0.000614660433058777,
          -0.004901984193563336,
          -0.0016477062086706937,
          0.0007406517290923425,
          -0.0008088011195925902,
          -0.0012631143459533737,
          0.0025795618351810126,
          0.004167002160646989,
          -0.0005029829956521956,
          -0.0011667611730092114,
          0.002175102917003516,
          0.003648671491915235,
          0.00025940372628646083,
          0.0020994147118721745,
          -3.667272794438667e-7,
          -0.0036494380406368395,
          0
         ]
        }
       ],
       "layout": {
        "margin": {
         "b": 10,
         "l": 10,
         "r": 20,
         "t": 10
        },
        "scene": {
         "aspectmode": "cube",
         "xaxis": {
          "backgroundcolor": "white",
          "dtick": 0.1,
          "gridcolor": "grey",
          "gridwidth": 0.5,
          "range": [
           -0.035,
           0.035
          ],
          "showbackground": true,
          "tickvals": [
           -0.03,
           0,
           0.03
          ],
          "zerolinecolor": "grey"
         },
         "yaxis": {
          "backgroundcolor": "white",
          "dtick": 0.1,
          "gridcolor": "grey",
          "gridwidth": 0.5,
          "range": [
           -0.035,
           0.035
          ],
          "showbackground": true,
          "tickvals": [
           -0.03,
           0,
           0.03
          ],
          "zerolinecolor": "grey"
         },
         "zaxis": {
          "backgroundcolor": "rgba(10, 10, 10, 0.1)",
          "dtick": 0.1,
          "gridcolor": "grey",
          "gridwidth": 0.5,
          "range": [
           -0.035,
           0.035
          ],
          "showbackground": true,
          "tickvals": [
           -0.03,
           0,
           0.03
          ],
          "zerolinecolor": "grey"
         }
        },
        "showlegend": false,
        "template": {
         "data": {
          "bar": [
           {
            "error_x": {
             "color": "#2a3f5f"
            },
            "error_y": {
             "color": "#2a3f5f"
            },
            "marker": {
             "line": {
              "color": "#E5ECF6",
              "width": 0.5
             },
             "pattern": {
              "fillmode": "overlay",
              "size": 10,
              "solidity": 0.2
             }
            },
            "type": "bar"
           }
          ],
          "barpolar": [
           {
            "marker": {
             "line": {
              "color": "#E5ECF6",
              "width": 0.5
             },
             "pattern": {
              "fillmode": "overlay",
              "size": 10,
              "solidity": 0.2
             }
            },
            "type": "barpolar"
           }
          ],
          "carpet": [
           {
            "aaxis": {
             "endlinecolor": "#2a3f5f",
             "gridcolor": "white",
             "linecolor": "white",
             "minorgridcolor": "white",
             "startlinecolor": "#2a3f5f"
            },
            "baxis": {
             "endlinecolor": "#2a3f5f",
             "gridcolor": "white",
             "linecolor": "white",
             "minorgridcolor": "white",
             "startlinecolor": "#2a3f5f"
            },
            "type": "carpet"
           }
          ],
          "choropleth": [
           {
            "colorbar": {
             "outlinewidth": 0,
             "ticks": ""
            },
            "type": "choropleth"
           }
          ],
          "contour": [
           {
            "colorbar": {
             "outlinewidth": 0,
             "ticks": ""
            },
            "colorscale": [
             [
              0,
              "#0d0887"
             ],
             [
              0.1111111111111111,
              "#46039f"
             ],
             [
              0.2222222222222222,
              "#7201a8"
             ],
             [
              0.3333333333333333,
              "#9c179e"
             ],
             [
              0.4444444444444444,
              "#bd3786"
             ],
             [
              0.5555555555555556,
              "#d8576b"
             ],
             [
              0.6666666666666666,
              "#ed7953"
             ],
             [
              0.7777777777777778,
              "#fb9f3a"
             ],
             [
              0.8888888888888888,
              "#fdca26"
             ],
             [
              1,
              "#f0f921"
             ]
            ],
            "type": "contour"
           }
          ],
          "contourcarpet": [
           {
            "colorbar": {
             "outlinewidth": 0,
             "ticks": ""
            },
            "type": "contourcarpet"
           }
          ],
          "heatmap": [
           {
            "colorbar": {
             "outlinewidth": 0,
             "ticks": ""
            },
            "colorscale": [
             [
              0,
              "#0d0887"
             ],
             [
              0.1111111111111111,
              "#46039f"
             ],
             [
              0.2222222222222222,
              "#7201a8"
             ],
             [
              0.3333333333333333,
              "#9c179e"
             ],
             [
              0.4444444444444444,
              "#bd3786"
             ],
             [
              0.5555555555555556,
              "#d8576b"
             ],
             [
              0.6666666666666666,
              "#ed7953"
             ],
             [
              0.7777777777777778,
              "#fb9f3a"
             ],
             [
              0.8888888888888888,
              "#fdca26"
             ],
             [
              1,
              "#f0f921"
             ]
            ],
            "type": "heatmap"
           }
          ],
          "heatmapgl": [
           {
            "colorbar": {
             "outlinewidth": 0,
             "ticks": ""
            },
            "colorscale": [
             [
              0,
              "#0d0887"
             ],
             [
              0.1111111111111111,
              "#46039f"
             ],
             [
              0.2222222222222222,
              "#7201a8"
             ],
             [
              0.3333333333333333,
              "#9c179e"
             ],
             [
              0.4444444444444444,
              "#bd3786"
             ],
             [
              0.5555555555555556,
              "#d8576b"
             ],
             [
              0.6666666666666666,
              "#ed7953"
             ],
             [
              0.7777777777777778,
              "#fb9f3a"
             ],
             [
              0.8888888888888888,
              "#fdca26"
             ],
             [
              1,
              "#f0f921"
             ]
            ],
            "type": "heatmapgl"
           }
          ],
          "histogram": [
           {
            "marker": {
             "pattern": {
              "fillmode": "overlay",
              "size": 10,
              "solidity": 0.2
             }
            },
            "type": "histogram"
           }
          ],
          "histogram2d": [
           {
            "colorbar": {
             "outlinewidth": 0,
             "ticks": ""
            },
            "colorscale": [
             [
              0,
              "#0d0887"
             ],
             [
              0.1111111111111111,
              "#46039f"
             ],
             [
              0.2222222222222222,
              "#7201a8"
             ],
             [
              0.3333333333333333,
              "#9c179e"
             ],
             [
              0.4444444444444444,
              "#bd3786"
             ],
             [
              0.5555555555555556,
              "#d8576b"
             ],
             [
              0.6666666666666666,
              "#ed7953"
             ],
             [
              0.7777777777777778,
              "#fb9f3a"
             ],
             [
              0.8888888888888888,
              "#fdca26"
             ],
             [
              1,
              "#f0f921"
             ]
            ],
            "type": "histogram2d"
           }
          ],
          "histogram2dcontour": [
           {
            "colorbar": {
             "outlinewidth": 0,
             "ticks": ""
            },
            "colorscale": [
             [
              0,
              "#0d0887"
             ],
             [
              0.1111111111111111,
              "#46039f"
             ],
             [
              0.2222222222222222,
              "#7201a8"
             ],
             [
              0.3333333333333333,
              "#9c179e"
             ],
             [
              0.4444444444444444,
              "#bd3786"
             ],
             [
              0.5555555555555556,
              "#d8576b"
             ],
             [
              0.6666666666666666,
              "#ed7953"
             ],
             [
              0.7777777777777778,
              "#fb9f3a"
             ],
             [
              0.8888888888888888,
              "#fdca26"
             ],
             [
              1,
              "#f0f921"
             ]
            ],
            "type": "histogram2dcontour"
           }
          ],
          "mesh3d": [
           {
            "colorbar": {
             "outlinewidth": 0,
             "ticks": ""
            },
            "type": "mesh3d"
           }
          ],
          "parcoords": [
           {
            "line": {
             "colorbar": {
              "outlinewidth": 0,
              "ticks": ""
             }
            },
            "type": "parcoords"
           }
          ],
          "pie": [
           {
            "automargin": true,
            "type": "pie"
           }
          ],
          "scatter": [
           {
            "fillpattern": {
             "fillmode": "overlay",
             "size": 10,
             "solidity": 0.2
            },
            "type": "scatter"
           }
          ],
          "scatter3d": [
           {
            "line": {
             "colorbar": {
              "outlinewidth": 0,
              "ticks": ""
             }
            },
            "marker": {
             "colorbar": {
              "outlinewidth": 0,
              "ticks": ""
             }
            },
            "type": "scatter3d"
           }
          ],
          "scattercarpet": [
           {
            "marker": {
             "colorbar": {
              "outlinewidth": 0,
              "ticks": ""
             }
            },
            "type": "scattercarpet"
           }
          ],
          "scattergeo": [
           {
            "marker": {
             "colorbar": {
              "outlinewidth": 0,
              "ticks": ""
             }
            },
            "type": "scattergeo"
           }
          ],
          "scattergl": [
           {
            "marker": {
             "colorbar": {
              "outlinewidth": 0,
              "ticks": ""
             }
            },
            "type": "scattergl"
           }
          ],
          "scattermapbox": [
           {
            "marker": {
             "colorbar": {
              "outlinewidth": 0,
              "ticks": ""
             }
            },
            "type": "scattermapbox"
           }
          ],
          "scatterpolar": [
           {
            "marker": {
             "colorbar": {
              "outlinewidth": 0,
              "ticks": ""
             }
            },
            "type": "scatterpolar"
           }
          ],
          "scatterpolargl": [
           {
            "marker": {
             "colorbar": {
              "outlinewidth": 0,
              "ticks": ""
             }
            },
            "type": "scatterpolargl"
           }
          ],
          "scatterternary": [
           {
            "marker": {
             "colorbar": {
              "outlinewidth": 0,
              "ticks": ""
             }
            },
            "type": "scatterternary"
           }
          ],
          "surface": [
           {
            "colorbar": {
             "outlinewidth": 0,
             "ticks": ""
            },
            "colorscale": [
             [
              0,
              "#0d0887"
             ],
             [
              0.1111111111111111,
              "#46039f"
             ],
             [
              0.2222222222222222,
              "#7201a8"
             ],
             [
              0.3333333333333333,
              "#9c179e"
             ],
             [
              0.4444444444444444,
              "#bd3786"
             ],
             [
              0.5555555555555556,
              "#d8576b"
             ],
             [
              0.6666666666666666,
              "#ed7953"
             ],
             [
              0.7777777777777778,
              "#fb9f3a"
             ],
             [
              0.8888888888888888,
              "#fdca26"
             ],
             [
              1,
              "#f0f921"
             ]
            ],
            "type": "surface"
           }
          ],
          "table": [
           {
            "cells": {
             "fill": {
              "color": "#EBF0F8"
             },
             "line": {
              "color": "white"
             }
            },
            "header": {
             "fill": {
              "color": "#C8D4E3"
             },
             "line": {
              "color": "white"
             }
            },
            "type": "table"
           }
          ]
         },
         "layout": {
          "annotationdefaults": {
           "arrowcolor": "#2a3f5f",
           "arrowhead": 0,
           "arrowwidth": 1
          },
          "autotypenumbers": "strict",
          "coloraxis": {
           "colorbar": {
            "outlinewidth": 0,
            "ticks": ""
           }
          },
          "colorscale": {
           "diverging": [
            [
             0,
             "#8e0152"
            ],
            [
             0.1,
             "#c51b7d"
            ],
            [
             0.2,
             "#de77ae"
            ],
            [
             0.3,
             "#f1b6da"
            ],
            [
             0.4,
             "#fde0ef"
            ],
            [
             0.5,
             "#f7f7f7"
            ],
            [
             0.6,
             "#e6f5d0"
            ],
            [
             0.7,
             "#b8e186"
            ],
            [
             0.8,
             "#7fbc41"
            ],
            [
             0.9,
             "#4d9221"
            ],
            [
             1,
             "#276419"
            ]
           ],
           "sequential": [
            [
             0,
             "#0d0887"
            ],
            [
             0.1111111111111111,
             "#46039f"
            ],
            [
             0.2222222222222222,
             "#7201a8"
            ],
            [
             0.3333333333333333,
             "#9c179e"
            ],
            [
             0.4444444444444444,
             "#bd3786"
            ],
            [
             0.5555555555555556,
             "#d8576b"
            ],
            [
             0.6666666666666666,
             "#ed7953"
            ],
            [
             0.7777777777777778,
             "#fb9f3a"
            ],
            [
             0.8888888888888888,
             "#fdca26"
            ],
            [
             1,
             "#f0f921"
            ]
           ],
           "sequentialminus": [
            [
             0,
             "#0d0887"
            ],
            [
             0.1111111111111111,
             "#46039f"
            ],
            [
             0.2222222222222222,
             "#7201a8"
            ],
            [
             0.3333333333333333,
             "#9c179e"
            ],
            [
             0.4444444444444444,
             "#bd3786"
            ],
            [
             0.5555555555555556,
             "#d8576b"
            ],
            [
             0.6666666666666666,
             "#ed7953"
            ],
            [
             0.7777777777777778,
             "#fb9f3a"
            ],
            [
             0.8888888888888888,
             "#fdca26"
            ],
            [
             1,
             "#f0f921"
            ]
           ]
          },
          "colorway": [
           "#636efa",
           "#EF553B",
           "#00cc96",
           "#ab63fa",
           "#FFA15A",
           "#19d3f3",
           "#FF6692",
           "#B6E880",
           "#FF97FF",
           "#FECB52"
          ],
          "font": {
           "color": "#2a3f5f"
          },
          "geo": {
           "bgcolor": "white",
           "lakecolor": "white",
           "landcolor": "#E5ECF6",
           "showlakes": true,
           "showland": true,
           "subunitcolor": "white"
          },
          "hoverlabel": {
           "align": "left"
          },
          "hovermode": "closest",
          "mapbox": {
           "style": "light"
          },
          "paper_bgcolor": "white",
          "plot_bgcolor": "#E5ECF6",
          "polar": {
           "angularaxis": {
            "gridcolor": "white",
            "linecolor": "white",
            "ticks": ""
           },
           "bgcolor": "#E5ECF6",
           "radialaxis": {
            "gridcolor": "white",
            "linecolor": "white",
            "ticks": ""
           }
          },
          "scene": {
           "xaxis": {
            "backgroundcolor": "#E5ECF6",
            "gridcolor": "white",
            "gridwidth": 2,
            "linecolor": "white",
            "showbackground": true,
            "ticks": "",
            "zerolinecolor": "white"
           },
           "yaxis": {
            "backgroundcolor": "#E5ECF6",
            "gridcolor": "white",
            "gridwidth": 2,
            "linecolor": "white",
            "showbackground": true,
            "ticks": "",
            "zerolinecolor": "white"
           },
           "zaxis": {
            "backgroundcolor": "#E5ECF6",
            "gridcolor": "white",
            "gridwidth": 2,
            "linecolor": "white",
            "showbackground": true,
            "ticks": "",
            "zerolinecolor": "white"
           }
          },
          "shapedefaults": {
           "line": {
            "color": "#2a3f5f"
           }
          },
          "ternary": {
           "aaxis": {
            "gridcolor": "white",
            "linecolor": "white",
            "ticks": ""
           },
           "baxis": {
            "gridcolor": "white",
            "linecolor": "white",
            "ticks": ""
           },
           "bgcolor": "#E5ECF6",
           "caxis": {
            "gridcolor": "white",
            "linecolor": "white",
            "ticks": ""
           }
          },
          "title": {
           "x": 0.05
          },
          "xaxis": {
           "automargin": true,
           "gridcolor": "white",
           "linecolor": "white",
           "ticks": "",
           "title": {
            "standoff": 15
           },
           "zerolinecolor": "white",
           "zerolinewidth": 2
          },
          "yaxis": {
           "automargin": true,
           "gridcolor": "white",
           "linecolor": "white",
           "ticks": "",
           "title": {
            "standoff": 15
           },
           "zerolinecolor": "white",
           "zerolinewidth": 2
          }
         }
        }
       }
      }
     },
     "metadata": {},
     "output_type": "display_data"
    }
   ],
   "source": [
    "plot_plotly(spider3d)"
   ]
  },
  {
   "cell_type": "code",
   "execution_count": 102,
   "metadata": {},
   "outputs": [
    {
     "name": "stdout",
     "output_type": "stream",
     "text": [
      "Figure and axes initialized.\n"
     ]
    },
    {
     "data": {
      "text/plain": [
       "<matplotlib.animation.FuncAnimation at 0x12909b8d0>"
      ]
     },
     "execution_count": 102,
     "metadata": {},
     "output_type": "execute_result"
    },
    {
     "data": {
      "application/vnd.jupyter.widget-view+json": {
       "model_id": "9140e6fb9e2e42d5beb0416905a09ed8",
       "version_major": 2,
       "version_minor": 0
      },
      "image/png": "[encoded data removed]",
      "text/html": [
       "\n",
       "            <div style=\"display: inline-block;\">\n",
       "                <div class=\"jupyter-widgets widget-label\" style=\"text-align: center;\">\n",
       "                    Figure\n",
       "                </div>\n",
       "                <img src='data:image/png;base64,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' width=600.0/>\n",
       "            </div>\n",
       "        "
      ],
      "text/plain": [
       "Canvas(toolbar=Toolbar(toolitems=[('Home', 'Reset original view', 'home', 'home'), ('Back', 'Back to previous …"
      ]
     },
     "metadata": {},
     "output_type": "display_data"
    },
    {
     "name": "stderr",
     "output_type": "stream",
     "text": [
      "No such comm: 9140e6fb9e2e42d5beb0416905a09ed8\n",
      "No such comm: 9140e6fb9e2e42d5beb0416905a09ed8\n"
     ]
    }
   ],
   "source": [
    "%matplotlib widget\n",
    "# Make a set of keypoints by adding some random noise to the original keypoints\n",
    "spider3d.reset_transformation()\n",
    "spider3d.restore_keypoints_to_average()\n",
    "fake_keypoints = np.random.normal(0, 0.01, (100,35,3)) + spider3d.markers\n",
    "\n",
    "\n",
    "# Animate the random motion\n",
    "animate(spider3d, fake_keypoints, rotation_type=\"static\")\n"
   ]
  },
  {
   "cell_type": "code",
   "execution_count": 104,
   "metadata": {},
   "outputs": [],
   "source": []
  }
 ],
 "metadata": {
  "kernelspec": {
   "display_name": "venv",
   "language": "python",
   "name": "python3"
  },
  "language_info": {
   "codemirror_mode": {
    "name": "ipython",
    "version": 3
   },
   "file_extension": ".py",
   "mimetype": "text/x-python",
   "name": "python",
   "nbconvert_exporter": "python",
   "pygments_lexer": "ipython3",
   "version": "3.11.6"
  }
 },
 "nbformat": 4,
 "nbformat_minor": 2
}

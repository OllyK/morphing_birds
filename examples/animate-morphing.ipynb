{
  "cells": [
    {
      "cell_type": "markdown",
      "source": [
        "## A notebook to test flight animation"
      ],
      "metadata": {
        "id": "C1rumAFqwkoN"
      }
    },
    {
      "cell_type": "markdown",
      "source": [
        "[![Open In Colab](https://colab.research.google.com/assets/colab-badge.svg)](https://colab.research.google.com/github/OllyK/morphing_birds/blob/refactor/examples/animate-morphing.ipynb)"
      ],
      "metadata": {
        "id": "psOchP0BwQoC"
      }
    },
    {
      "cell_type": "markdown",
      "source": [
        "### Initial Setup\n"
      ],
      "metadata": {
        "id": "VfT3VHOkwytI"
      }
    },
    {
      "cell_type": "code",
      "source": [
        "%pip install ipympl # to allow interactive features of matplotlib\n",
        "# install the morphing_birds package\n",
        "!git clone https://github.com/lydiafrance/morphing_birds.git --branch refactor && pip install ./morphing_birds"
      ],
      "metadata": {
        "id": "ZeQMWxnnw6jZ"
      },
      "execution_count": null,
      "outputs": []
    },
    {
      "cell_type": "markdown",
      "source": [
        "### Run the following cell to import modules"
      ],
      "metadata": {
        "id": "XhlrE2RjzovI"
      }
    },
    {
      "cell_type": "code",
      "execution_count": null,
      "metadata": {
        "id": "voLjj9LyvOjw"
      },
      "outputs": [],
      "source": [
        "%load_ext autoreload\n",
        "%autoreload 2\n",
        "\n",
        "%matplotlib widget\n",
        "\n",
        "%config InlineBackend.figure_format='svg'\n",
        "\n",
        "\n",
        "import numpy as np\n",
        "from matplotlib import pyplot as plt\n",
        "\n",
        "from morphing_birds import Hawk3D, plot, interactive_plot, plot_multiple, animate, animate_compare, plot_plotly, animate_plotly, create_dash_app\n",
        "\n",
        "np.set_printoptions(suppress=True, precision=3)\n",
        "\n"
      ]
    },
    {
      "cell_type": "markdown",
      "metadata": {
        "id": "209JtPq2vOjx"
      },
      "source": [
        "# Load the Average Hawk Shape and plot using matplotlib or plotly\n",
        "\n",
        "First run this cell to enable thrid-party widget support\n"
      ]
    },
    {
      "cell_type": "code",
      "source": [
        "from google.colab import output\n",
        "output.enable_custom_widget_manager()"
      ],
      "metadata": {
        "id": "bmcX6J0d1v3P"
      },
      "execution_count": null,
      "outputs": []
    },
    {
      "cell_type": "code",
      "source": [
        "# plot with matplotlib\n",
        "hawk3d = Hawk3D(\"./morphing_birds/data/mean_hawk_shape.csv\")\n",
        "\n",
        "interactive_plot(hawk3d)"
      ],
      "metadata": {
        "id": "RHxTycsL0G8Y"
      },
      "execution_count": null,
      "outputs": []
    },
    {
      "cell_type": "code",
      "execution_count": null,
      "metadata": {
        "id": "_mNEbQcpvOjy"
      },
      "outputs": [],
      "source": [
        "# plot with plotly\n",
        "plot_plotly(hawk3d)\n",
        "\n"
      ]
    },
    {
      "cell_type": "code",
      "execution_count": null,
      "metadata": {
        "id": "P3gth8RKvOjz"
      },
      "outputs": [],
      "source": [
        "# try some differnt scaling\n",
        "hawk3d = Hawk3D(\"./morphing_birds/data/mean_hawk_shape.csv\")\n",
        "\n",
        "scaling_factors = np.array([1.5, 1.5, 1.5])\n",
        "hawk3d.set_fixed_marker_scaling(scaling_factors)\n",
        "\n",
        "hawk3d.apply_fixed_marker_scaling()\n",
        "\n",
        "plot_plotly(hawk3d)\n"
      ]
    },
    {
      "cell_type": "code",
      "execution_count": null,
      "metadata": {
        "id": "QLtOOWctvOjz"
      },
      "outputs": [],
      "source": [
        "# Make a set of keypoints by adding some random noise to the original keypoints\n",
        "hawk3d.reset_transformation()\n",
        "hawk3d.restore_keypoints_to_average()\n",
        "fake_keypoints = np.random.normal(0, 0.01, (100,8,3)) + hawk3d.markers\n"
      ]
    },
    {
      "cell_type": "code",
      "execution_count": null,
      "metadata": {
        "id": "fzj2JEOhvOjz"
      },
      "outputs": [],
      "source": [
        "# Create an animation with the random keypoints\n",
        "hawk3d = Hawk3D(\"./morphing_birds/data/mean_hawk_shape.csv\")\n",
        "\n",
        "scaling_factors = np.array([1.5, 1.5, 2])\n",
        "hawk3d.set_fixed_marker_scaling(scaling_factors)\n",
        "\n",
        "# hawk3d.apply_fixed_marker_scaling()\n",
        "\n",
        "animate_plotly(hawk3d, fake_keypoints)\n",
        "#plot_plotly(hawk3d)"
      ]
    },
    {
      "cell_type": "code",
      "execution_count": null,
      "metadata": {
        "id": "5h6UkGNXvOjz"
      },
      "outputs": [],
      "source": [
        "# Assume your function is accessible from here, either by import or direct definition\n",
        "app = create_dash_app()\n",
        "app.run_server(mode='inline')  # 'inline' will embed it within the Jupyter notebook"
      ]
    },
    {
      "cell_type": "markdown",
      "metadata": {
        "id": "MRZgTl4MvOj0"
      },
      "source": [
        "## Alter the Body Pitch"
      ]
    },
    {
      "cell_type": "code",
      "execution_count": null,
      "metadata": {
        "id": "uBDK_oF_vOj0"
      },
      "outputs": [],
      "source": [
        "hawk3d.restore_keypoints_to_average()\n",
        "hawk3d.reset_transformation()\n",
        "hawk3d.transform_keypoints(bodypitch=90, yaw=0)\n",
        "interactive_plot(hawk3d, az=90, el=0)"
      ]
    },
    {
      "cell_type": "markdown",
      "metadata": {
        "id": "AMgezaFTvOj0"
      },
      "source": [
        "## Animate Random Motion"
      ]
    },
    {
      "cell_type": "code",
      "execution_count": null,
      "metadata": {
        "id": "vYQj4_s4vOj0"
      },
      "outputs": [],
      "source": [
        "%matplotlib widget\n",
        "# Make a set of keypoints by adding some random noise to the original keypoints\n",
        "hawk3d.reset_transformation()\n",
        "hawk3d.restore_keypoints_to_average()\n",
        "fake_keypoints = np.random.normal(0, 0.01, (100,8,3)) + hawk3d.markers\n",
        "\n",
        "\n",
        "# Animate the random motion\n",
        "animate(hawk3d, fake_keypoints, rotation_type=\"static\")\n",
        "\n",
        "# Can also try dynamic rotation\n",
        "# animate(hawk3d, fake_keypoints, rotation_type=\"dynamic\")\n"
      ]
    },
    {
      "cell_type": "code",
      "execution_count": null,
      "metadata": {
        "id": "Y94HRiiAvOj0"
      },
      "outputs": [],
      "source": [
        "hawk3d.restore_keypoints_to_average()\n",
        "hawk3d.reset_transformation()\n",
        "\n",
        "interactive_plot(hawk3d,az=90, el=0)"
      ]
    },
    {
      "cell_type": "markdown",
      "metadata": {
        "id": "8kPS-y_qvOj0"
      },
      "source": [
        "## Animate two on top of each other"
      ]
    },
    {
      "cell_type": "code",
      "execution_count": null,
      "metadata": {
        "id": "ufaCtEVLvOj0"
      },
      "outputs": [],
      "source": [
        "hawk3d.reset_transformation()\n",
        "fake_keypoints = np.random.normal(0, 0.01, (100,8,3)) + hawk3d.markers\n",
        "hawk3d.reset_transformation()\n",
        "compare_fake_keypoints = np.random.normal(0, 0.01, (100,8,3)) + hawk3d.markers\n",
        "\n",
        "\n",
        "# Animate the random motion\n",
        "animate_compare(hawk3d, [fake_keypoints, compare_fake_keypoints], rotation_type=\"static\")"
      ]
    },
    {
      "cell_type": "code",
      "execution_count": null,
      "metadata": {
        "id": "6B9scvalvOj0"
      },
      "outputs": [],
      "source": [
        "plt.close(\"all\")"
      ]
    },
    {
      "cell_type": "code",
      "execution_count": null,
      "metadata": {
        "id": "XlGnqpABvOj0"
      },
      "outputs": [],
      "source": [
        "# from IPython.display import HTML\n",
        "\n",
        "hawk3d = Hawk3D(\"../data/mean_hawk_shape.csv\")\n",
        "hawk3d.restore_keypoints_to_average()\n",
        "hawk3d.reset_transformation()\n",
        "colour_list = [\"red\", \"blue\", \"green\", \"orange\", \"purple\", \"cyan\", \"magenta\", \"yellow\", \"black\", \"grey\", \"pink\"]\n",
        "cropped_image = plot_multiple(hawk3d,fake_keypoints, 9, cut_off=0, el=10, rot=-30, colour_list=colour_list)\n",
        "display(cropped_image)"
      ]
    }
  ],
  "metadata": {
    "kernelspec": {
      "display_name": "venv",
      "language": "python",
      "name": "python3"
    },
    "language_info": {
      "codemirror_mode": {
        "name": "ipython",
        "version": 3
      },
      "file_extension": ".py",
      "mimetype": "text/x-python",
      "name": "python",
      "nbconvert_exporter": "python",
      "pygments_lexer": "ipython3",
      "version": "3.11.6"
    },
    "colab": {
      "provenance": []
    }
  },
  "nbformat": 4,
  "nbformat_minor": 0
}